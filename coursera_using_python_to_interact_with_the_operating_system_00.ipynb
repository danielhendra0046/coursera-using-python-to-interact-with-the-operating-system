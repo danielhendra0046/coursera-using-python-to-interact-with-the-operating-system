{
  "cells": [
    {
      "cell_type": "markdown",
      "metadata": {
        "colab_type": "text",
        "id": "view-in-github"
      },
      "source": [
        "<a href=\"https://colab.research.google.com/github/danielhendra0046/coursera-using-python-to-interact-with-the-operating-system/blob/main/coursera_using_python_to_interact_with_the_operating_system_00.ipynb\" target=\"_parent\"><img src=\"https://colab.research.google.com/assets/colab-badge.svg\" alt=\"Open In Colab\"/></a>"
      ]
    },
    {
      "cell_type": "markdown",
      "metadata": {},
      "source": [
        "# 15 NOVEMBER 2023"
      ]
    },
    {
      "cell_type": "markdown",
      "metadata": {},
      "source": [
        "## About OS"
      ]
    },
    {
      "cell_type": "markdown",
      "metadata": {},
      "source": [
        "OS is the software that manages everything that goes on in the computer  \n",
        "2 main parts on the OS,  \n",
        "Kernel -> main core of OS, talks directly to our harware  \n",
        "user space -> help kernel to interact  \n",
        "\n"
      ]
    },
    {
      "cell_type": "code",
      "execution_count": 21,
      "metadata": {
        "colab": {
          "base_uri": "https://localhost:8080/"
        },
        "id": "ykjDDjCTiu-h",
        "outputId": "03a276d3-e5c1-4972-8701-d0efa45a106f"
      },
      "outputs": [
        {
          "name": "stdout",
          "output_type": "stream",
          "text": [
            "py\n"
          ]
        }
      ],
      "source": [
        "print(\"py\")"
      ]
    },
    {
      "cell_type": "markdown",
      "metadata": {},
      "source": [
        "# 16 NOVEMBER 2023"
      ]
    },
    {
      "cell_type": "markdown",
      "metadata": {},
      "source": [
        "## New Lessons"
      ]
    },
    {
      "cell_type": "markdown",
      "metadata": {},
      "source": [
        "Not many that i can write in here, because i always practice locally at my linux. But, in this module, i learn about code reuse,  \n",
        "\n",
        "pareto principle -> 20% of the system administration tasks that you perform are responsible for 80% of your work  \n",
        "\n"
      ]
    },
    {
      "cell_type": "code",
      "execution_count": 22,
      "metadata": {},
      "outputs": [
        {
          "ename": "FileNotFoundError",
          "evalue": "[Errno 2] No such file or directory: 'spider.txt'",
          "output_type": "error",
          "traceback": [
            "\u001b[0;31m---------------------------------------------------------------------------\u001b[0m",
            "\u001b[0;31mFileNotFoundError\u001b[0m                         Traceback (most recent call last)",
            "\u001b[1;32m/Users/danielhendraandriyanto/Documents/belajar-python/coursera-using-python-to-interact-with-the-operating-system/coursera_using_python_to_interact_with_the_operating_system_00.ipynb Cell 9\u001b[0m line \u001b[0;36m3\n\u001b[1;32m      <a href='vscode-notebook-cell:/Users/danielhendraandriyanto/Documents/belajar-python/coursera-using-python-to-interact-with-the-operating-system/coursera_using_python_to_interact_with_the_operating_system_00.ipynb#X11sZmlsZQ%3D%3D?line=0'>1</a>\u001b[0m \u001b[39m# how to open and read file\u001b[39;00m\n\u001b[0;32m----> <a href='vscode-notebook-cell:/Users/danielhendraandriyanto/Documents/belajar-python/coursera-using-python-to-interact-with-the-operating-system/coursera_using_python_to_interact_with_the_operating_system_00.ipynb#X11sZmlsZQ%3D%3D?line=2'>3</a>\u001b[0m file \u001b[39m=\u001b[39m \u001b[39mopen\u001b[39;49m(\u001b[39m\"\u001b[39;49m\u001b[39mspider.txt\u001b[39;49m\u001b[39m\"\u001b[39;49m)\n",
            "File \u001b[0;32m~/Library/Python/3.11/lib/python/site-packages/IPython/core/interactiveshell.py:308\u001b[0m, in \u001b[0;36m_modified_open\u001b[0;34m(file, *args, **kwargs)\u001b[0m\n\u001b[1;32m    301\u001b[0m \u001b[39mif\u001b[39;00m file \u001b[39min\u001b[39;00m {\u001b[39m0\u001b[39m, \u001b[39m1\u001b[39m, \u001b[39m2\u001b[39m}:\n\u001b[1;32m    302\u001b[0m     \u001b[39mraise\u001b[39;00m \u001b[39mValueError\u001b[39;00m(\n\u001b[1;32m    303\u001b[0m         \u001b[39mf\u001b[39m\u001b[39m\"\u001b[39m\u001b[39mIPython won\u001b[39m\u001b[39m'\u001b[39m\u001b[39mt let you open fd=\u001b[39m\u001b[39m{\u001b[39;00mfile\u001b[39m}\u001b[39;00m\u001b[39m by default \u001b[39m\u001b[39m\"\u001b[39m\n\u001b[1;32m    304\u001b[0m         \u001b[39m\"\u001b[39m\u001b[39mas it is likely to crash IPython. If you know what you are doing, \u001b[39m\u001b[39m\"\u001b[39m\n\u001b[1;32m    305\u001b[0m         \u001b[39m\"\u001b[39m\u001b[39myou can use builtins\u001b[39m\u001b[39m'\u001b[39m\u001b[39m open.\u001b[39m\u001b[39m\"\u001b[39m\n\u001b[1;32m    306\u001b[0m     )\n\u001b[0;32m--> 308\u001b[0m \u001b[39mreturn\u001b[39;00m io_open(file, \u001b[39m*\u001b[39;49margs, \u001b[39m*\u001b[39;49m\u001b[39m*\u001b[39;49mkwargs)\n",
            "\u001b[0;31mFileNotFoundError\u001b[0m: [Errno 2] No such file or directory: 'spider.txt'"
          ]
        }
      ],
      "source": [
        "# how to open and read file\n",
        "\n",
        "file = open(\"spider.txt\")"
      ]
    },
    {
      "cell_type": "code",
      "execution_count": null,
      "metadata": {},
      "outputs": [
        {
          "name": "stdout",
          "output_type": "stream",
          "text": [
            "The itsy bitsy spider climbed up the watersprout\n",
            "\n"
          ]
        }
      ],
      "source": [
        "print(file.readline())"
      ]
    },
    {
      "cell_type": "code",
      "execution_count": null,
      "metadata": {},
      "outputs": [
        {
          "name": "stdout",
          "output_type": "stream",
          "text": [
            "Down came the rain\n",
            "\n"
          ]
        }
      ],
      "source": [
        "print(file.readline())"
      ]
    },
    {
      "cell_type": "code",
      "execution_count": null,
      "metadata": {},
      "outputs": [
        {
          "name": "stdout",
          "output_type": "stream",
          "text": [
            "and washes the spider out\n",
            "out came the sun\n",
            "and dried up all the rain\n",
            "and the itsy bitsy spider climbed up the spout again\n"
          ]
        }
      ],
      "source": [
        "print(file.read())"
      ]
    },
    {
      "cell_type": "code",
      "execution_count": null,
      "metadata": {},
      "outputs": [],
      "source": [
        "file.close()"
      ]
    },
    {
      "cell_type": "code",
      "execution_count": null,
      "metadata": {},
      "outputs": [
        {
          "name": "stdout",
          "output_type": "stream",
          "text": [
            "The itsy bitsy spider climbed up the watersprout\n",
            "\n"
          ]
        }
      ],
      "source": [
        "# how to open a file automatically close the file\n",
        "\n",
        "with open(\"spider.txt\") as file:\n",
        "    print(file.readline())"
      ]
    },
    {
      "cell_type": "markdown",
      "metadata": {},
      "source": [
        "iterating trough files"
      ]
    },
    {
      "cell_type": "code",
      "execution_count": null,
      "metadata": {},
      "outputs": [
        {
          "name": "stdout",
          "output_type": "stream",
          "text": [
            "THE ITSY BITSY SPIDER CLIMBED UP THE WATERSPROUT\n",
            "\n",
            "DOWN CAME THE RAIN\n",
            "\n",
            "AND WASHES THE SPIDER OUT\n",
            "\n",
            "OUT CAME THE SUN\n",
            "\n",
            "AND DRIED UP ALL THE RAIN\n",
            "\n",
            "AND THE ITSY BITSY SPIDER CLIMBED UP THE SPOUT AGAIN\n"
          ]
        }
      ],
      "source": [
        "with open(\"spider.txt\") as file:\n",
        "    for line in file:\n",
        "        print(line.upper())"
      ]
    },
    {
      "cell_type": "code",
      "execution_count": null,
      "metadata": {},
      "outputs": [
        {
          "name": "stdout",
          "output_type": "stream",
          "text": [
            "THE ITSY BITSY SPIDER CLIMBED UP THE WATERSPROUT\n",
            "DOWN CAME THE RAIN\n",
            "AND WASHES THE SPIDER OUT\n",
            "OUT CAME THE SUN\n",
            "AND DRIED UP ALL THE RAIN\n",
            "AND THE ITSY BITSY SPIDER CLIMBED UP THE SPOUT AGAIN\n"
          ]
        }
      ],
      "source": [
        "with open(\"spider.txt\") as file:\n",
        "    for line in file:\n",
        "        print(line.strip().upper())"
      ]
    },
    {
      "cell_type": "code",
      "execution_count": null,
      "metadata": {},
      "outputs": [
        {
          "name": "stdout",
          "output_type": "stream",
          "text": [
            "['Down came the rain\\n', 'The itsy bitsy spider climbed up the watersprout\\n', 'and dried up all the rain\\n', 'and the itsy bitsy spider climbed up the spout again', 'and washes the spider out\\n', 'out came the sun\\n']\n"
          ]
        }
      ],
      "source": [
        "\n",
        "file = open(\"spider.txt\")\n",
        "lines = file.readlines()\n",
        "file.close()\n",
        "lines.sort()\n",
        "print(lines)"
      ]
    },
    {
      "cell_type": "markdown",
      "metadata": {},
      "source": [
        "how to write in .txt"
      ]
    },
    {
      "cell_type": "code",
      "execution_count": null,
      "metadata": {},
      "outputs": [],
      "source": [
        "with open(\"novel.txt\", \"w\") as file:\n",
        "    file.write(\"It was a dark and stormy day\")"
      ]
    },
    {
      "cell_type": "markdown",
      "metadata": {},
      "source": [
        "This is how to delete and rename files"
      ]
    },
    {
      "cell_type": "code",
      "execution_count": null,
      "metadata": {},
      "outputs": [],
      "source": [
        "# import os\n",
        "# os.remove(\"novel.txt\")\n",
        "# os.rename(\"first_draft.txt\". \"finished_masterpiece.txt\")"
      ]
    },
    {
      "cell_type": "code",
      "execution_count": null,
      "metadata": {},
      "outputs": [],
      "source": [
        "# to check whether the files exist or not\n",
        "\n",
        "# import os\n",
        "# os.path.exists(\"finished_masterpiece.txt\")"
      ]
    },
    {
      "cell_type": "markdown",
      "metadata": {},
      "source": [
        "# 17 NOVEMBER 2023"
      ]
    },
    {
      "cell_type": "markdown",
      "metadata": {},
      "source": [
        "## About managing file"
      ]
    },
    {
      "cell_type": "code",
      "execution_count": null,
      "metadata": {},
      "outputs": [
        {
          "data": {
            "text/plain": [
              "189"
            ]
          },
          "execution_count": 3,
          "metadata": {},
          "output_type": "execute_result"
        }
      ],
      "source": [
        "# to use import os and import datetime\n",
        "import os\n",
        "os.path.getsize(\"spider.txt\")"
      ]
    },
    {
      "cell_type": "code",
      "execution_count": null,
      "metadata": {},
      "outputs": [
        {
          "data": {
            "text/plain": [
              "1700197524.2346103"
            ]
          },
          "execution_count": 4,
          "metadata": {},
          "output_type": "execute_result"
        }
      ],
      "source": [
        "os.path.getmtime(\"spider.txt\")"
      ]
    },
    {
      "cell_type": "code",
      "execution_count": null,
      "metadata": {},
      "outputs": [
        {
          "data": {
            "text/plain": [
              "datetime.datetime(2023, 11, 17, 12, 5, 24, 234610)"
            ]
          },
          "execution_count": 6,
          "metadata": {},
          "output_type": "execute_result"
        }
      ],
      "source": [
        "import datetime\n",
        "\n",
        "timestamp = os.path.getmtime(\"spider.txt\")\n",
        "datetime.datetime.fromtimestamp(timestamp)"
      ]
    },
    {
      "cell_type": "code",
      "execution_count": null,
      "metadata": {},
      "outputs": [
        {
          "data": {
            "text/plain": [
              "'/Users/danielhendraandriyanto/Documents/belajar-python/coursera-using-python-to-interact-with-the-operating-system/spider.txt'"
            ]
          },
          "execution_count": 7,
          "metadata": {},
          "output_type": "execute_result"
        }
      ],
      "source": [
        "os.path.abspath(\"spider.txt\")"
      ]
    },
    {
      "cell_type": "markdown",
      "metadata": {},
      "source": [
        "Directories"
      ]
    },
    {
      "cell_type": "code",
      "execution_count": null,
      "metadata": {},
      "outputs": [
        {
          "name": "stdout",
          "output_type": "stream",
          "text": [
            "/Users/danielhendraandriyanto/Documents/belajar-python/coursera-using-python-to-interact-with-the-operating-system\n"
          ]
        }
      ],
      "source": [
        "# to find path or default direcories\n",
        "print(os.getcwd())"
      ]
    },
    {
      "cell_type": "code",
      "execution_count": null,
      "metadata": {},
      "outputs": [],
      "source": [
        "# to make directory\n",
        "\n",
        "os.mkdir(\"make_directory\")"
      ]
    },
    {
      "cell_type": "code",
      "execution_count": null,
      "metadata": {},
      "outputs": [
        {
          "ename": "FileNotFoundError",
          "evalue": "[Errno 2] No such file or directory: 'make_directory'",
          "output_type": "error",
          "traceback": [
            "\u001b[0;31m---------------------------------------------------------------------------\u001b[0m",
            "\u001b[0;31mFileNotFoundError\u001b[0m                         Traceback (most recent call last)",
            "\u001b[1;32m/Users/danielhendraandriyanto/Documents/belajar-python/coursera-using-python-to-interact-with-the-operating-system/coursera_using_python_to_interact_with_the_operating_system_00.ipynb Cell 33\u001b[0m line \u001b[0;36m3\n\u001b[1;32m      <a href='vscode-notebook-cell:/Users/danielhendraandriyanto/Documents/belajar-python/coursera-using-python-to-interact-with-the-operating-system/coursera_using_python_to_interact_with_the_operating_system_00.ipynb#X44sZmlsZQ%3D%3D?line=0'>1</a>\u001b[0m \u001b[39m# to change position directory we work at\u001b[39;00m\n\u001b[0;32m----> <a href='vscode-notebook-cell:/Users/danielhendraandriyanto/Documents/belajar-python/coursera-using-python-to-interact-with-the-operating-system/coursera_using_python_to_interact_with_the_operating_system_00.ipynb#X44sZmlsZQ%3D%3D?line=2'>3</a>\u001b[0m os\u001b[39m.\u001b[39;49mchdir(\u001b[39m\"\u001b[39;49m\u001b[39mmake_directory\u001b[39;49m\u001b[39m\"\u001b[39;49m)\n",
            "\u001b[0;31mFileNotFoundError\u001b[0m: [Errno 2] No such file or directory: 'make_directory'"
          ]
        }
      ],
      "source": [
        "# to change position directory we work at\n",
        "\n",
        "os.chdir(\"make_directory\")"
      ]
    },
    {
      "cell_type": "code",
      "execution_count": null,
      "metadata": {},
      "outputs": [
        {
          "data": {
            "text/plain": [
              "'/Users/danielhendraandriyanto/Documents/belajar-python/coursera-using-python-to-interact-with-the-operating-system/make_directory'"
            ]
          },
          "execution_count": 15,
          "metadata": {},
          "output_type": "execute_result"
        }
      ],
      "source": [
        "os.getcwd()"
      ]
    },
    {
      "cell_type": "code",
      "execution_count": 23,
      "metadata": {},
      "outputs": [],
      "source": [
        "os.mkdir(\"makers_directory\")"
      ]
    },
    {
      "cell_type": "code",
      "execution_count": 24,
      "metadata": {},
      "outputs": [],
      "source": [
        "# to remove directory\n",
        "\n",
        "os.rmdir(\"makers_directory\")"
      ]
    }
  ],
  "metadata": {
    "colab": {
      "authorship_tag": "ABX9TyM1esMcJKfzEG/zdv4xjkz+",
      "include_colab_link": true,
      "provenance": []
    },
    "kernelspec": {
      "display_name": "Python 3",
      "name": "python3"
    },
    "language_info": {
      "codemirror_mode": {
        "name": "ipython",
        "version": 3
      },
      "file_extension": ".py",
      "mimetype": "text/x-python",
      "name": "python",
      "nbconvert_exporter": "python",
      "pygments_lexer": "ipython3",
      "version": "3.11.6"
    }
  },
  "nbformat": 4,
  "nbformat_minor": 0
}
