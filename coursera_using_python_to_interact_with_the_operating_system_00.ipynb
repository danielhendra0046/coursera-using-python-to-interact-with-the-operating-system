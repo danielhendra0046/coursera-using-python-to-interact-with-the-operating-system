{
  "cells": [
    {
      "cell_type": "markdown",
      "metadata": {
        "colab_type": "text",
        "id": "view-in-github"
      },
      "source": [
        "<a href=\"https://colab.research.google.com/github/danielhendra0046/coursera-using-python-to-interact-with-the-operating-system/blob/main/coursera_using_python_to_interact_with_the_operating_system_00.ipynb\" target=\"_parent\"><img src=\"https://colab.research.google.com/assets/colab-badge.svg\" alt=\"Open In Colab\"/></a>"
      ]
    },
    {
      "cell_type": "markdown",
      "metadata": {},
      "source": [
        "# 15 NOVEMBER 2023"
      ]
    },
    {
      "cell_type": "markdown",
      "metadata": {},
      "source": [
        "## About OS"
      ]
    },
    {
      "cell_type": "markdown",
      "metadata": {},
      "source": [
        "OS is the software that manages everything that goes on in the computer  \n",
        "2 main parts on the OS,  \n",
        "Kernel -> main core of OS, talks directly to our harware  \n",
        "user space -> help kernel to interact  \n",
        "\n"
      ]
    },
    {
      "cell_type": "code",
      "execution_count": 2,
      "metadata": {
        "colab": {
          "base_uri": "https://localhost:8080/"
        },
        "id": "ykjDDjCTiu-h",
        "outputId": "03a276d3-e5c1-4972-8701-d0efa45a106f"
      },
      "outputs": [
        {
          "name": "stdout",
          "output_type": "stream",
          "text": [
            "py\n"
          ]
        }
      ],
      "source": [
        "print(\"py\")"
      ]
    }
  ],
  "metadata": {
    "colab": {
      "authorship_tag": "ABX9TyM1esMcJKfzEG/zdv4xjkz+",
      "include_colab_link": true,
      "provenance": []
    },
    "kernelspec": {
      "display_name": "Python 3",
      "name": "python3"
    },
    "language_info": {
      "name": "python"
    }
  },
  "nbformat": 4,
  "nbformat_minor": 0
}
