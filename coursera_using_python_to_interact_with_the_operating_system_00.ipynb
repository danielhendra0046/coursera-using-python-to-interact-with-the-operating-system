{
  "cells": [
    {
      "cell_type": "markdown",
      "metadata": {
        "colab_type": "text",
        "id": "view-in-github"
      },
      "source": [
        "<a href=\"https://colab.research.google.com/github/danielhendra0046/coursera-using-python-to-interact-with-the-operating-system/blob/main/coursera_using_python_to_interact_with_the_operating_system_00.ipynb\" target=\"_parent\"><img src=\"https://colab.research.google.com/assets/colab-badge.svg\" alt=\"Open In Colab\"/></a>"
      ]
    },
    {
      "cell_type": "markdown",
      "metadata": {},
      "source": [
        "# 15 NOVEMBER 2023"
      ]
    },
    {
      "cell_type": "markdown",
      "metadata": {},
      "source": [
        "## About OS"
      ]
    },
    {
      "cell_type": "markdown",
      "metadata": {},
      "source": [
        "OS is the software that manages everything that goes on in the computer  \n",
        "2 main parts on the OS,  \n",
        "Kernel -> main core of OS, talks directly to our harware  \n",
        "user space -> help kernel to interact  \n",
        "\n"
      ]
    },
    {
      "cell_type": "code",
      "execution_count": 1,
      "metadata": {
        "colab": {
          "base_uri": "https://localhost:8080/"
        },
        "id": "ykjDDjCTiu-h",
        "outputId": "03a276d3-e5c1-4972-8701-d0efa45a106f"
      },
      "outputs": [
        {
          "name": "stdout",
          "output_type": "stream",
          "text": [
            "py\n"
          ]
        }
      ],
      "source": [
        "print(\"py\")"
      ]
    },
    {
      "cell_type": "markdown",
      "metadata": {},
      "source": [
        "# 16 NOVEMBER 2023"
      ]
    },
    {
      "cell_type": "markdown",
      "metadata": {},
      "source": [
        "## New Lessons"
      ]
    },
    {
      "cell_type": "markdown",
      "metadata": {},
      "source": [
        "Not many that i can write in here, because i always practice locally at my linux. But, in this module, i learn about code reuse,  \n",
        "\n",
        "pareto principle -> 20% of the system administration tasks that you perform are responsible for 80% of your work  \n",
        "\n"
      ]
    },
    {
      "cell_type": "code",
      "execution_count": 1,
      "metadata": {},
      "outputs": [],
      "source": [
        "# how to open and read file\n",
        "\n",
        "file = open(\"spider.txt\")"
      ]
    },
    {
      "cell_type": "code",
      "execution_count": 2,
      "metadata": {},
      "outputs": [
        {
          "name": "stdout",
          "output_type": "stream",
          "text": [
            "The itsy bitsy spider climbed up the watersprout\n",
            "\n"
          ]
        }
      ],
      "source": [
        "print(file.readline())"
      ]
    },
    {
      "cell_type": "code",
      "execution_count": 3,
      "metadata": {},
      "outputs": [
        {
          "name": "stdout",
          "output_type": "stream",
          "text": [
            "Down came the rain\n",
            "\n"
          ]
        }
      ],
      "source": [
        "print(file.readline())"
      ]
    },
    {
      "cell_type": "code",
      "execution_count": 4,
      "metadata": {},
      "outputs": [
        {
          "name": "stdout",
          "output_type": "stream",
          "text": [
            "and washes the spider out\n",
            "out came the sun\n",
            "and dried up all the rain\n",
            "and the itsy bitsy spider climbed up the spout again\n"
          ]
        }
      ],
      "source": [
        "print(file.read())"
      ]
    },
    {
      "cell_type": "code",
      "execution_count": 5,
      "metadata": {},
      "outputs": [],
      "source": [
        "file.close()"
      ]
    },
    {
      "cell_type": "code",
      "execution_count": 6,
      "metadata": {},
      "outputs": [
        {
          "name": "stdout",
          "output_type": "stream",
          "text": [
            "The itsy bitsy spider climbed up the watersprout\n",
            "\n"
          ]
        }
      ],
      "source": [
        "# how to open a file automatically close the file\n",
        "\n",
        "with open(\"spider.txt\") as file:\n",
        "    print(file.readline())"
      ]
    },
    {
      "cell_type": "markdown",
      "metadata": {},
      "source": [
        "iterating trough files"
      ]
    },
    {
      "cell_type": "code",
      "execution_count": 7,
      "metadata": {},
      "outputs": [
        {
          "name": "stdout",
          "output_type": "stream",
          "text": [
            "THE ITSY BITSY SPIDER CLIMBED UP THE WATERSPROUT\n",
            "\n",
            "DOWN CAME THE RAIN\n",
            "\n",
            "AND WASHES THE SPIDER OUT\n",
            "\n",
            "OUT CAME THE SUN\n",
            "\n",
            "AND DRIED UP ALL THE RAIN\n",
            "\n",
            "AND THE ITSY BITSY SPIDER CLIMBED UP THE SPOUT AGAIN\n"
          ]
        }
      ],
      "source": [
        "with open(\"spider.txt\") as file:\n",
        "    for line in file:\n",
        "        print(line.upper())"
      ]
    },
    {
      "cell_type": "code",
      "execution_count": 8,
      "metadata": {},
      "outputs": [
        {
          "name": "stdout",
          "output_type": "stream",
          "text": [
            "THE ITSY BITSY SPIDER CLIMBED UP THE WATERSPROUT\n",
            "DOWN CAME THE RAIN\n",
            "AND WASHES THE SPIDER OUT\n",
            "OUT CAME THE SUN\n",
            "AND DRIED UP ALL THE RAIN\n",
            "AND THE ITSY BITSY SPIDER CLIMBED UP THE SPOUT AGAIN\n"
          ]
        }
      ],
      "source": [
        "with open(\"spider.txt\") as file:\n",
        "    for line in file:\n",
        "        print(line.strip().upper())"
      ]
    },
    {
      "cell_type": "code",
      "execution_count": 11,
      "metadata": {},
      "outputs": [
        {
          "name": "stdout",
          "output_type": "stream",
          "text": [
            "['Down came the rain\\n', 'The itsy bitsy spider climbed up the watersprout\\n', 'and dried up all the rain\\n', 'and the itsy bitsy spider climbed up the spout again', 'and washes the spider out\\n', 'out came the sun\\n']\n"
          ]
        }
      ],
      "source": [
        "\n",
        "file = open(\"spider.txt\")\n",
        "lines = file.readlines()\n",
        "file.close()\n",
        "lines.sort()\n",
        "print(lines)"
      ]
    },
    {
      "cell_type": "markdown",
      "metadata": {},
      "source": [
        "how to write in .txt"
      ]
    },
    {
      "cell_type": "code",
      "execution_count": 13,
      "metadata": {},
      "outputs": [],
      "source": [
        "with open(\"novel.txt\", \"w\") as file:\n",
        "    file.write(\"It was a dark and stormy day\")"
      ]
    },
    {
      "cell_type": "markdown",
      "metadata": {},
      "source": [
        "This is how to delete and rename files"
      ]
    },
    {
      "cell_type": "code",
      "execution_count": null,
      "metadata": {},
      "outputs": [],
      "source": [
        "# import os\n",
        "# os.remove(\"novel.txt\")\n",
        "# os.rename(\"first_draft.txt\". \"finished_masterpiece.txt\")"
      ]
    },
    {
      "cell_type": "code",
      "execution_count": null,
      "metadata": {},
      "outputs": [],
      "source": [
        "# to check whether the files exist or not\n",
        "\n",
        "# import os\n",
        "# os.path.exists(\"finished_masterpiece.txt\")"
      ]
    }
  ],
  "metadata": {
    "colab": {
      "authorship_tag": "ABX9TyM1esMcJKfzEG/zdv4xjkz+",
      "include_colab_link": true,
      "provenance": []
    },
    "kernelspec": {
      "display_name": "Python 3",
      "name": "python3"
    },
    "language_info": {
      "codemirror_mode": {
        "name": "ipython",
        "version": 3
      },
      "file_extension": ".py",
      "mimetype": "text/x-python",
      "name": "python",
      "nbconvert_exporter": "python",
      "pygments_lexer": "ipython3",
      "version": "3.10.12"
    }
  },
  "nbformat": 4,
  "nbformat_minor": 0
}
