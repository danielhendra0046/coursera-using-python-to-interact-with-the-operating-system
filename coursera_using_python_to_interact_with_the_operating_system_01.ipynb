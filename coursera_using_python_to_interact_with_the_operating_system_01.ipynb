{
  "cells": [
    {
      "cell_type": "markdown",
      "metadata": {
        "colab_type": "text",
        "id": "view-in-github"
      },
      "source": [
        "<a href=\"https://colab.research.google.com/github/danielhendra0046/coursera-using-python-to-interact-with-the-operating-system/blob/main/coursera_using_python_to_interact_with_the_operating_system_01.ipynb\" target=\"_parent\"><img src=\"https://colab.research.google.com/assets/colab-badge.svg\" alt=\"Open In Colab\"/></a>"
      ]
    },
    {
      "cell_type": "markdown",
      "metadata": {},
      "source": [
        "# 24 NOVEMBER 2023"
      ]
    },
    {
      "cell_type": "markdown",
      "metadata": {},
      "source": [
        "## csv"
      ]
    },
    {
      "cell_type": "code",
      "execution_count": 2,
      "metadata": {
        "colab": {
          "base_uri": "https://localhost:8080/"
        },
        "id": "mBR-qZLD3E4o",
        "outputId": "6cc688bf-3716-4ba7-b5a6-89b0b2f8c416"
      },
      "outputs": [
        {
          "name": "stdout",
          "output_type": "stream",
          "text": [
            "Sabrina Green, 082222229394, IT specialist\n",
            "Nuke, 0292938844, Manager\n",
            "Herald, 20220939494, GM"
          ]
        }
      ],
      "source": [
        "cat csv_file.txt"
      ]
    },
    {
      "cell_type": "code",
      "execution_count": 4,
      "metadata": {},
      "outputs": [
        {
          "name": "stdout",
          "output_type": "stream",
          "text": [
            "Name: Sabrina Green, Phone:  082222229394, Role:  IT specialist\n",
            "Name: Nuke, Phone:  0292938844, Role:  Manager\n",
            "Name: Herald, Phone:  20220939494, Role:  GM\n"
          ]
        }
      ],
      "source": [
        "import csv\n",
        "\n",
        "f = open(\"csv_file.txt\")\n",
        "csv_f = csv.reader(f)\n",
        "\n",
        "for row in csv_f:\n",
        "    name, phone, role = row\n",
        "    print(\"Name: {}, Phone: {}, Role: {}\".format(name,phone,role))\n",
        "\n",
        "f.close()"
      ]
    },
    {
      "cell_type": "code",
      "execution_count": 7,
      "metadata": {},
      "outputs": [],
      "source": [
        "# to generate own csv file\n",
        "\n",
        "hosts = [[\"workstation.local\", \"192.168.25.46\"], [\"webserver.cloud\", \"10.2.5.6\"]]\n",
        "\n",
        "with open('hosts.csv', 'w') as hosts_csv:\n",
        "    writer = csv.writer(hosts_csv)\n",
        "    writer.writerows(hosts)"
      ]
    },
    {
      "cell_type": "code",
      "execution_count": 12,
      "metadata": {},
      "outputs": [
        {
          "name": "stdout",
          "output_type": "stream",
          "text": [
            "workstation.local,192.168.25.46\n",
            "webserver.cloud,10.2.5.6\n"
          ]
        }
      ],
      "source": [
        "cat hosts.csv"
      ]
    },
    {
      "cell_type": "markdown",
      "metadata": {},
      "source": [
        "Csv with dictionary"
      ]
    },
    {
      "cell_type": "code",
      "execution_count": 17,
      "metadata": {},
      "outputs": [
        {
          "name": "stdout",
          "output_type": "stream",
          "text": [
            "name,version,status,users\n",
            "MailTree,5.34,production,324\n",
            "CalDoor,1.25.1,beta,22\n",
            "Chatty Chicken,0.34,alpha,4\n"
          ]
        }
      ],
      "source": [
        "cat software.csv"
      ]
    },
    {
      "cell_type": "code",
      "execution_count": 19,
      "metadata": {},
      "outputs": [
        {
          "name": "stdout",
          "output_type": "stream",
          "text": [
            "MailTree has 324 users\n",
            "CalDoor has 22 users\n",
            "Chatty Chicken has 4 users\n"
          ]
        }
      ],
      "source": [
        "with open('software.csv') as software:\n",
        "    reader = csv.DictReader(software)\n",
        "    for row in reader:\n",
        "        print((\"{} has {} users\").format(row[\"name\"], row[\"users\"]))"
      ]
    },
    {
      "cell_type": "code",
      "execution_count": 28,
      "metadata": {},
      "outputs": [],
      "source": [
        "# dict writer for csv\n",
        "\n",
        "users = [ {\"name\": \"Sol Mansi\", \"username\": \"solm\", \"department\": \"IT infrastructure\"},\n",
        "{\"name\": \"Lio Nelson\", \"username\": \"lion\", \"department\": \"User Experience Research\"},\n",
        "{\"name\": \"Charlie Grey\", \"username\": \"greyc\", \"department\": \"Development\"}]\n",
        "\n",
        "keys = [\"name\", \"username\", \"department\"]\n",
        "with open('by_department.csv', 'w') as by_department:\n",
        "    writer = csv.DictWriter(by_department, fieldnames=keys)\n",
        "    writer.writeheader()\n",
        "    writer.writerows(users)"
      ]
    },
    {
      "cell_type": "code",
      "execution_count": 29,
      "metadata": {},
      "outputs": [
        {
          "name": "stdout",
          "output_type": "stream",
          "text": [
            "name,username,department\n",
            "Sol Mansi,solm,IT infrastructure\n",
            "Lio Nelson,lion,User Experience Research\n",
            "Charlie Grey,greyc,Development\n"
          ]
        }
      ],
      "source": [
        "cat by_department.csv"
      ]
    },
    {
      "cell_type": "markdown",
      "metadata": {},
      "source": [
        "## Regular Expression"
      ]
    },
    {
      "cell_type": "code",
      "execution_count": 30,
      "metadata": {},
      "outputs": [
        {
          "name": "stdout",
          "output_type": "stream",
          "text": [
            "12345\n"
          ]
        }
      ],
      "source": [
        "# regular expression allow us to search a text for strings matching a specific pattern\n",
        "\n",
        "# this is not example of regular expression\n",
        "log = \"July 31 07:51:48 mycomputer bad_process[12345]: ERROR Performing package upgrade\"\n",
        "\n",
        "index = log.index(\"[\")\n",
        "print(log[index+1:index+6])"
      ]
    },
    {
      "cell_type": "code",
      "execution_count": 35,
      "metadata": {},
      "outputs": [
        {
          "name": "stdout",
          "output_type": "stream",
          "text": [
            "12345\n"
          ]
        }
      ],
      "source": [
        "# this is example of regular expression\n",
        "\n",
        "import re\n",
        "\n",
        "log = \"July 31 07:51:48 mycomputer bad_process[12345]: ERROR Performing package upgrade\"\n",
        "\n",
        "regex = r\"\\[(\\d+)\\]\"\n",
        "result = re.search(regex, log)\n",
        "print(result[1])"
      ]
    },
    {
      "cell_type": "markdown",
      "metadata": {},
      "source": [
        "how to use grep"
      ]
    },
    {
      "cell_type": "code",
      "execution_count": 37,
      "metadata": {},
      "outputs": [],
      "source": [
        "# grep python /usr/share/dict/words\n",
        "\n",
        "# to not pay attention into uppercase or lowercase\n",
        "# grep -i python /usr/share/dict/words"
      ]
    },
    {
      "cell_type": "code",
      "execution_count": null,
      "metadata": {},
      "outputs": [],
      "source": [
        "# . can be replace with all letter\n",
        "\n",
        "# grep l.rts /usr/share/dict/words\n",
        "\n",
        "# output may be:\n",
        "# alerts\n",
        "# blurts\n",
        "# flirts"
      ]
    },
    {
      "cell_type": "code",
      "execution_count": null,
      "metadata": {},
      "outputs": [],
      "source": [
        "# to find word that in first, use ^\n",
        "# grep ^fruit /usr/share/dict/words\n",
        "\n",
        "# output will be:\n",
        "# fruitfull\n",
        "# fruities\n",
        "# fruition\n",
        "\n",
        "# to find word that in last, use $\n",
        "# grep cat$ /usr/share/dict/words\n",
        "\n",
        "# output will be:\n",
        "# Muscat\n",
        "# bobcat\n",
        "# copycat\n"
      ]
    },
    {
      "cell_type": "markdown",
      "metadata": {},
      "source": [
        "## Basic Regular Expressions"
      ]
    },
    {
      "cell_type": "code",
      "execution_count": 42,
      "metadata": {},
      "outputs": [
        {
          "name": "stdout",
          "output_type": "stream",
          "text": [
            "<re.Match object; span=(2, 5), match='aza'>\n"
          ]
        }
      ],
      "source": [
        "import re\n",
        "\n",
        "result = re.search(r\"aza\", \"plaza\")\n",
        "print(result)"
      ]
    },
    {
      "cell_type": "code",
      "execution_count": 6,
      "metadata": {},
      "outputs": [
        {
          "name": "stdout",
          "output_type": "stream",
          "text": [
            "None\n"
          ]
        }
      ],
      "source": [
        "import re\n",
        "\n",
        "result = re.search(r\"^za\", \"plaza\")\n",
        "print(result)"
      ]
    },
    {
      "cell_type": "code",
      "execution_count": 9,
      "metadata": {},
      "outputs": [
        {
          "name": "stdout",
          "output_type": "stream",
          "text": [
            "<re.Match object; span=(0, 4), match='Pang'>\n"
          ]
        }
      ],
      "source": [
        "import re\n",
        "print(re.search(r\"p.ng\", \"Pangaea\", re.IGNORECASE))"
      ]
    },
    {
      "cell_type": "code",
      "execution_count": 11,
      "metadata": {},
      "outputs": [
        {
          "name": "stdout",
          "output_type": "stream",
          "text": [
            "<re.Match object; span=(0, 6), match='python'>\n"
          ]
        }
      ],
      "source": [
        "# to use square bracket to find word\n",
        "\n",
        "import re\n",
        "print(re.search(r\"[Pp]ython\", \"python\"))"
      ]
    },
    {
      "cell_type": "code",
      "execution_count": 12,
      "metadata": {},
      "outputs": [
        {
          "name": "stdout",
          "output_type": "stream",
          "text": [
            "<re.Match object; span=(0, 9), match='Pygmalion'>\n"
          ]
        }
      ],
      "source": [
        "print(re.search(r\"Py.*n\", \"Pygmalion\"))"
      ]
    },
    {
      "cell_type": "code",
      "execution_count": 13,
      "metadata": {},
      "outputs": [
        {
          "name": "stdout",
          "output_type": "stream",
          "text": [
            "<re.Match object; span=(0, 17), match='Python Programmin'>\n"
          ]
        }
      ],
      "source": [
        "print(re.search(r\"Py.*n\", \"Python Programming\"))"
      ]
    },
    {
      "cell_type": "code",
      "execution_count": 17,
      "metadata": {},
      "outputs": [
        {
          "name": "stdout",
          "output_type": "stream",
          "text": [
            "<re.Match object; span=(0, 6), match='Python'>\n"
          ]
        }
      ],
      "source": [
        "print(re.search(r\"Py[a-z]*n\", \"Python Programming\"))"
      ]
    },
    {
      "cell_type": "code",
      "execution_count": 26,
      "metadata": {},
      "outputs": [
        {
          "name": "stdout",
          "output_type": "stream",
          "text": [
            "<re.Match object; span=(0, 13), match='Lovelace, Ada'>\n",
            "('Lovelace', 'Ada')\n",
            "Lovelace, Ada\n",
            "Lovelace\n",
            "Ada\n"
          ]
        },
        {
          "data": {
            "text/plain": [
              "'Ada Lovelace'"
            ]
          },
          "execution_count": 26,
          "metadata": {},
          "output_type": "execute_result"
        }
      ],
      "source": [
        "# capturing groups\n",
        "\n",
        "result = re.search(r\"^(\\w*), (\\w*)$\", \"Lovelace, Ada\")\n",
        "print(result)\n",
        "\n",
        "print(result.groups())\n",
        "\n",
        "print(result[0])\n",
        "print(result[1])\n",
        "print(result[2])\n",
        "\n",
        "\"{} {}\".format(result[2], result[1])"
      ]
    },
    {
      "cell_type": "markdown",
      "metadata": {},
      "source": [
        "# 25 NOVEMBER 2023"
      ]
    },
    {
      "cell_type": "markdown",
      "metadata": {},
      "source": [
        "## Data stream"
      ]
    },
    {
      "cell_type": "code",
      "execution_count": 11,
      "metadata": {},
      "outputs": [
        {
          "name": "stdout",
          "output_type": "stream",
          "text": [
            "Welcome to this time converter\n"
          ]
        },
        {
          "name": "stdout",
          "output_type": "stream",
          "text": [
            "That's 3723 seconds\n",
            "\n",
            "Good bye!\n"
          ]
        }
      ],
      "source": [
        "#!/usr/bin/env python3\n",
        "\n",
        "def to_seconds(hours, minutes, seconds):\n",
        "    return hours*3600+minutes*60+seconds\n",
        "\n",
        "print(\"Welcome to this time converter\")\n",
        "\n",
        "cont = \"y\"\n",
        "while(cont.lower() == \"y\"):\n",
        "    hours = int(input(\"Enter the number of hours: \"))\n",
        "    minutes = int(input(\"Enter the number of minutes: \"))\n",
        "    seconds = int(input(\"Enter the number of seconds: \"))\n",
        "\n",
        "    print(\"That's {} seconds\".format(to_seconds(hours,minutes,seconds)))\n",
        "    print()\n",
        "    cont = input(\"Do you want to do another conversion? [y to continue] \")\n",
        "\n",
        "print(\"Good bye!\")"
      ]
    },
    {
      "cell_type": "code",
      "execution_count": null,
      "metadata": {},
      "outputs": [],
      "source": [
        "# we learn about I/O Stream, STDIN,STDOUT,STDERR"
      ]
    },
    {
      "cell_type": "code",
      "execution_count": 12,
      "metadata": {},
      "outputs": [
        {
          "ename": "FileNotFoundError",
          "evalue": "[Errno 2] No such file or directory: '--f=/home/daniel/.local/share/jupyter/runtime/kernel-v2-278358recapxCyk1.json'",
          "output_type": "error",
          "traceback": [
            "\u001b[0;31m---------------------------------------------------------------------------\u001b[0m",
            "\u001b[0;31mFileNotFoundError\u001b[0m                         Traceback (most recent call last)",
            "\u001b[1;32m/home/daniel/Documents/belajar_python/coursera-using-python-to-interact-with-the-operating-system/coursera_using_python_to_interact_with_the_operating_system_01.ipynb Cell 33\u001b[0m line \u001b[0;36m7\n\u001b[1;32m      <a href='vscode-notebook-cell:/home/daniel/Documents/belajar_python/coursera-using-python-to-interact-with-the-operating-system/coursera_using_python_to_interact_with_the_operating_system_01.ipynb#X45sZmlsZQ%3D%3D?line=3'>4</a>\u001b[0m filename\u001b[39m=\u001b[39msys\u001b[39m.\u001b[39margv[\u001b[39m1\u001b[39m]\n\u001b[1;32m      <a href='vscode-notebook-cell:/home/daniel/Documents/belajar_python/coursera-using-python-to-interact-with-the-operating-system/coursera_using_python_to_interact_with_the_operating_system_01.ipynb#X45sZmlsZQ%3D%3D?line=5'>6</a>\u001b[0m \u001b[39mif\u001b[39;00m \u001b[39mnot\u001b[39;00m os\u001b[39m.\u001b[39mpath\u001b[39m.\u001b[39mexists(filename):\n\u001b[0;32m----> <a href='vscode-notebook-cell:/home/daniel/Documents/belajar_python/coursera-using-python-to-interact-with-the-operating-system/coursera_using_python_to_interact_with_the_operating_system_01.ipynb#X45sZmlsZQ%3D%3D?line=6'>7</a>\u001b[0m     \u001b[39mwith\u001b[39;00m \u001b[39mopen\u001b[39;49m(filename, \u001b[39m\"\u001b[39;49m\u001b[39mw\u001b[39;49m\u001b[39m\"\u001b[39;49m) \u001b[39mas\u001b[39;00m f:\n\u001b[1;32m      <a href='vscode-notebook-cell:/home/daniel/Documents/belajar_python/coursera-using-python-to-interact-with-the-operating-system/coursera_using_python_to_interact_with_the_operating_system_01.ipynb#X45sZmlsZQ%3D%3D?line=7'>8</a>\u001b[0m         f\u001b[39m.\u001b[39mwrite(\u001b[39m\"\u001b[39m\u001b[39mNew file created\u001b[39m\u001b[39m\\n\u001b[39;00m\u001b[39m\"\u001b[39m)\n\u001b[1;32m      <a href='vscode-notebook-cell:/home/daniel/Documents/belajar_python/coursera-using-python-to-interact-with-the-operating-system/coursera_using_python_to_interact_with_the_operating_system_01.ipynb#X45sZmlsZQ%3D%3D?line=8'>9</a>\u001b[0m \u001b[39melse\u001b[39;00m:\n",
            "File \u001b[0;32m~/.local/lib/python3.10/site-packages/IPython/core/interactiveshell.py:308\u001b[0m, in \u001b[0;36m_modified_open\u001b[0;34m(file, *args, **kwargs)\u001b[0m\n\u001b[1;32m    301\u001b[0m \u001b[39mif\u001b[39;00m file \u001b[39min\u001b[39;00m {\u001b[39m0\u001b[39m, \u001b[39m1\u001b[39m, \u001b[39m2\u001b[39m}:\n\u001b[1;32m    302\u001b[0m     \u001b[39mraise\u001b[39;00m \u001b[39mValueError\u001b[39;00m(\n\u001b[1;32m    303\u001b[0m         \u001b[39mf\u001b[39m\u001b[39m\"\u001b[39m\u001b[39mIPython won\u001b[39m\u001b[39m'\u001b[39m\u001b[39mt let you open fd=\u001b[39m\u001b[39m{\u001b[39;00mfile\u001b[39m}\u001b[39;00m\u001b[39m by default \u001b[39m\u001b[39m\"\u001b[39m\n\u001b[1;32m    304\u001b[0m         \u001b[39m\"\u001b[39m\u001b[39mas it is likely to crash IPython. If you know what you are doing, \u001b[39m\u001b[39m\"\u001b[39m\n\u001b[1;32m    305\u001b[0m         \u001b[39m\"\u001b[39m\u001b[39myou can use builtins\u001b[39m\u001b[39m'\u001b[39m\u001b[39m open.\u001b[39m\u001b[39m\"\u001b[39m\n\u001b[1;32m    306\u001b[0m     )\n\u001b[0;32m--> 308\u001b[0m \u001b[39mreturn\u001b[39;00m io_open(file, \u001b[39m*\u001b[39;49margs, \u001b[39m*\u001b[39;49m\u001b[39m*\u001b[39;49mkwargs)\n",
            "\u001b[0;31mFileNotFoundError\u001b[0m: [Errno 2] No such file or directory: '--f=/home/daniel/.local/share/jupyter/runtime/kernel-v2-278358recapxCyk1.json'"
          ]
        }
      ],
      "source": [
        "import os\n",
        "import sys\n",
        "\n",
        "filename=sys.argv[1]\n",
        "\n",
        "if not os.path.exists(filename):\n",
        "    with open(filename, \"w\") as f:\n",
        "        f.write(\"New file created\\n\")\n",
        "else:\n",
        "    print(\"Error, the file {} already exists!\".format(filename))\n",
        "    sys.exit(1)"
      ]
    },
    {
      "cell_type": "markdown",
      "metadata": {},
      "source": [
        "## Python Subprocesses"
      ]
    },
    {
      "cell_type": "code",
      "execution_count": 13,
      "metadata": {},
      "outputs": [
        {
          "name": "stdout",
          "output_type": "stream",
          "text": [
            "Sab 25 Nov 2023 12:52:54  WIB\n"
          ]
        },
        {
          "data": {
            "text/plain": [
              "CompletedProcess(args=['date'], returncode=0)"
            ]
          },
          "execution_count": 13,
          "metadata": {},
          "output_type": "execute_result"
        }
      ],
      "source": [
        "import subprocess\n",
        "subprocess.run([\"date\"])"
      ]
    },
    {
      "cell_type": "code",
      "execution_count": 14,
      "metadata": {},
      "outputs": [
        {
          "data": {
            "text/plain": [
              "CompletedProcess(args=['sleep', '2'], returncode=0)"
            ]
          },
          "execution_count": 14,
          "metadata": {},
          "output_type": "execute_result"
        }
      ],
      "source": [
        "import subprocess\n",
        "subprocess.run([\"sleep\", \"2\"])"
      ]
    }
  ],
  "metadata": {
    "colab": {
      "authorship_tag": "ABX9TyMyCp1UZ+ArPqx6gedUXOv2",
      "include_colab_link": true,
      "provenance": []
    },
    "kernelspec": {
      "display_name": "Python 3",
      "name": "python3"
    },
    "language_info": {
      "codemirror_mode": {
        "name": "ipython",
        "version": 3
      },
      "file_extension": ".py",
      "mimetype": "text/x-python",
      "name": "python",
      "nbconvert_exporter": "python",
      "pygments_lexer": "ipython3",
      "version": "3.10.12"
    }
  },
  "nbformat": 4,
  "nbformat_minor": 0
}
