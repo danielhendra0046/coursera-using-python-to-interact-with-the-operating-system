{
  "cells": [
    {
      "cell_type": "markdown",
      "metadata": {
        "colab_type": "text",
        "id": "view-in-github"
      },
      "source": [
        "<a href=\"https://colab.research.google.com/github/danielhendra0046/coursera-using-python-to-interact-with-the-operating-system/blob/main/coursera_using_python_to_interact_with_the_operating_system_01.ipynb\" target=\"_parent\"><img src=\"https://colab.research.google.com/assets/colab-badge.svg\" alt=\"Open In Colab\"/></a>"
      ]
    },
    {
      "cell_type": "markdown",
      "metadata": {},
      "source": [
        "# 24 NOVEMBER 2023"
      ]
    },
    {
      "cell_type": "markdown",
      "metadata": {},
      "source": [
        "## csv"
      ]
    },
    {
      "cell_type": "code",
      "execution_count": 2,
      "metadata": {
        "colab": {
          "base_uri": "https://localhost:8080/"
        },
        "id": "mBR-qZLD3E4o",
        "outputId": "6cc688bf-3716-4ba7-b5a6-89b0b2f8c416"
      },
      "outputs": [
        {
          "name": "stdout",
          "output_type": "stream",
          "text": [
            "Sabrina Green, 082222229394, IT specialist\n",
            "Nuke, 0292938844, Manager\n",
            "Herald, 20220939494, GM"
          ]
        }
      ],
      "source": [
        "cat csv_file.txt"
      ]
    },
    {
      "cell_type": "code",
      "execution_count": 4,
      "metadata": {},
      "outputs": [
        {
          "name": "stdout",
          "output_type": "stream",
          "text": [
            "Name: Sabrina Green, Phone:  082222229394, Role:  IT specialist\n",
            "Name: Nuke, Phone:  0292938844, Role:  Manager\n",
            "Name: Herald, Phone:  20220939494, Role:  GM\n"
          ]
        }
      ],
      "source": [
        "import csv\n",
        "\n",
        "f = open(\"csv_file.txt\")\n",
        "csv_f = csv.reader(f)\n",
        "\n",
        "for row in csv_f:\n",
        "    name, phone, role = row\n",
        "    print(\"Name: {}, Phone: {}, Role: {}\".format(name,phone,role))\n",
        "\n",
        "f.close()"
      ]
    },
    {
      "cell_type": "code",
      "execution_count": 7,
      "metadata": {},
      "outputs": [],
      "source": [
        "# to generate own csv file\n",
        "\n",
        "hosts = [[\"workstation.local\", \"192.168.25.46\"], [\"webserver.cloud\", \"10.2.5.6\"]]\n",
        "\n",
        "with open('hosts.csv', 'w') as hosts_csv:\n",
        "    writer = csv.writer(hosts_csv)\n",
        "    writer.writerows(hosts)"
      ]
    },
    {
      "cell_type": "code",
      "execution_count": 12,
      "metadata": {},
      "outputs": [
        {
          "name": "stdout",
          "output_type": "stream",
          "text": [
            "workstation.local,192.168.25.46\n",
            "webserver.cloud,10.2.5.6\n"
          ]
        }
      ],
      "source": [
        "cat hosts.csv"
      ]
    },
    {
      "cell_type": "markdown",
      "metadata": {},
      "source": [
        "Csv with dictionary"
      ]
    },
    {
      "cell_type": "code",
      "execution_count": 17,
      "metadata": {},
      "outputs": [
        {
          "name": "stdout",
          "output_type": "stream",
          "text": [
            "name,version,status,users\n",
            "MailTree,5.34,production,324\n",
            "CalDoor,1.25.1,beta,22\n",
            "Chatty Chicken,0.34,alpha,4\n"
          ]
        }
      ],
      "source": [
        "cat software.csv"
      ]
    },
    {
      "cell_type": "code",
      "execution_count": 19,
      "metadata": {},
      "outputs": [
        {
          "name": "stdout",
          "output_type": "stream",
          "text": [
            "MailTree has 324 users\n",
            "CalDoor has 22 users\n",
            "Chatty Chicken has 4 users\n"
          ]
        }
      ],
      "source": [
        "with open('software.csv') as software:\n",
        "    reader = csv.DictReader(software)\n",
        "    for row in reader:\n",
        "        print((\"{} has {} users\").format(row[\"name\"], row[\"users\"]))"
      ]
    },
    {
      "cell_type": "code",
      "execution_count": 28,
      "metadata": {},
      "outputs": [],
      "source": [
        "# dict writer for csv\n",
        "\n",
        "users = [ {\"name\": \"Sol Mansi\", \"username\": \"solm\", \"department\": \"IT infrastructure\"},\n",
        "{\"name\": \"Lio Nelson\", \"username\": \"lion\", \"department\": \"User Experience Research\"},\n",
        "{\"name\": \"Charlie Grey\", \"username\": \"greyc\", \"department\": \"Development\"}]\n",
        "\n",
        "keys = [\"name\", \"username\", \"department\"]\n",
        "with open('by_department.csv', 'w') as by_department:\n",
        "    writer = csv.DictWriter(by_department, fieldnames=keys)\n",
        "    writer.writeheader()\n",
        "    writer.writerows(users)"
      ]
    },
    {
      "cell_type": "code",
      "execution_count": 29,
      "metadata": {},
      "outputs": [
        {
          "name": "stdout",
          "output_type": "stream",
          "text": [
            "name,username,department\n",
            "Sol Mansi,solm,IT infrastructure\n",
            "Lio Nelson,lion,User Experience Research\n",
            "Charlie Grey,greyc,Development\n"
          ]
        }
      ],
      "source": [
        "cat by_department.csv"
      ]
    },
    {
      "cell_type": "markdown",
      "metadata": {},
      "source": [
        "## Regular Expression"
      ]
    },
    {
      "cell_type": "code",
      "execution_count": 30,
      "metadata": {},
      "outputs": [
        {
          "name": "stdout",
          "output_type": "stream",
          "text": [
            "12345\n"
          ]
        }
      ],
      "source": [
        "# regular expression allow us to search a text for strings matching a specific pattern\n",
        "\n",
        "# this is not example of regular expression\n",
        "log = \"July 31 07:51:48 mycomputer bad_process[12345]: ERROR Performing package upgrade\"\n",
        "\n",
        "index = log.index(\"[\")\n",
        "print(log[index+1:index+6])"
      ]
    },
    {
      "cell_type": "code",
      "execution_count": 31,
      "metadata": {},
      "outputs": [
        {
          "name": "stdout",
          "output_type": "stream",
          "text": [
            "12345\n"
          ]
        }
      ],
      "source": [
        "# this is example of regular expression\n",
        "\n",
        "import re\n",
        "\n",
        "log = \"July 31 07:51:48 mycomputer bad_process[12345]: ERROR Performing package upgrade\"\n",
        "\n",
        "regex = r\"\\[(\\d+)\\]\"\n",
        "result = re.search(regex, log)\n",
        "print(result[1])"
      ]
    }
  ],
  "metadata": {
    "colab": {
      "authorship_tag": "ABX9TyMyCp1UZ+ArPqx6gedUXOv2",
      "include_colab_link": true,
      "provenance": []
    },
    "kernelspec": {
      "display_name": "Python 3",
      "name": "python3"
    },
    "language_info": {
      "codemirror_mode": {
        "name": "ipython",
        "version": 3
      },
      "file_extension": ".py",
      "mimetype": "text/x-python",
      "name": "python",
      "nbconvert_exporter": "python",
      "pygments_lexer": "ipython3",
      "version": "3.10.12"
    }
  },
  "nbformat": 4,
  "nbformat_minor": 0
}
